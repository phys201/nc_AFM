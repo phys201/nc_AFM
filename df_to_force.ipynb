{
 "cells": [
  {
   "cell_type": "code",
   "execution_count": 1,
   "id": "fdb576d7-43d0-4ec7-88b7-a38127e97f6a",
   "metadata": {},
   "outputs": [],
   "source": [
    "import numpy as np\n",
    "import pandas as pd\n",
    "import ncafm as nc\n",
    "import ncafm.io as io\n",
    "import ncafm.functions as fcn\n",
    "\n",
    "import matplotlib.pyplot as plt"
   ]
  },
  {
   "cell_type": "code",
   "execution_count": null,
   "id": "ef9d3271-2d73-43e2-b079-f1d0ca17fb54",
   "metadata": {},
   "outputs": [],
   "source": []
  },
  {
   "cell_type": "code",
   "execution_count": 57,
   "id": "132c5beb-2010-4e64-aaa1-53417fd0f97d",
   "metadata": {},
   "outputs": [],
   "source": [
    "data_path = nc.io.get_example_data_file_path('all_data_dataframe_237K.csv', data_dir='ncafm/example_data')"
   ]
  },
  {
   "cell_type": "code",
   "execution_count": 58,
   "id": "f4d0a86e-a47d-4c32-b55d-40bd75f97b7e",
   "metadata": {},
   "outputs": [],
   "source": [
    "data_dataframe = nc.io.load_data(data_path)"
   ]
  },
  {
   "cell_type": "code",
   "execution_count": 59,
   "id": "4378aa86-bc8d-4dc6-beb4-567503712fa6",
   "metadata": {},
   "outputs": [
    {
     "data": {
      "text/html": [
       "<div>\n",
       "<style scoped>\n",
       "    .dataframe tbody tr th:only-of-type {\n",
       "        vertical-align: middle;\n",
       "    }\n",
       "\n",
       "    .dataframe tbody tr th {\n",
       "        vertical-align: top;\n",
       "    }\n",
       "\n",
       "    .dataframe thead th {\n",
       "        text-align: right;\n",
       "    }\n",
       "</style>\n",
       "<table border=\"1\" class=\"dataframe\">\n",
       "  <thead>\n",
       "    <tr style=\"text-align: right;\">\n",
       "      <th></th>\n",
       "      <th>z</th>\n",
       "      <th>-0.0</th>\n",
       "      <th>0.75</th>\n",
       "      <th>2.0</th>\n",
       "      <th>4.0</th>\n",
       "      <th>6.0</th>\n",
       "      <th>8.0</th>\n",
       "      <th>10.0</th>\n",
       "    </tr>\n",
       "  </thead>\n",
       "  <tbody>\n",
       "    <tr>\n",
       "      <th>0</th>\n",
       "      <td>-3.182825e-08</td>\n",
       "      <td>51.750179</td>\n",
       "      <td>51.581310</td>\n",
       "      <td>51.130814</td>\n",
       "      <td>49.505810</td>\n",
       "      <td>46.584351</td>\n",
       "      <td>41.749966</td>\n",
       "      <td>33.953133</td>\n",
       "    </tr>\n",
       "    <tr>\n",
       "      <th>1</th>\n",
       "      <td>-3.162825e-08</td>\n",
       "      <td>43.953426</td>\n",
       "      <td>43.928509</td>\n",
       "      <td>43.816441</td>\n",
       "      <td>42.090847</td>\n",
       "      <td>39.372910</td>\n",
       "      <td>34.885902</td>\n",
       "      <td>27.489771</td>\n",
       "    </tr>\n",
       "    <tr>\n",
       "      <th>2</th>\n",
       "      <td>-3.142825e-08</td>\n",
       "      <td>36.527794</td>\n",
       "      <td>36.373009</td>\n",
       "      <td>36.233540</td>\n",
       "      <td>34.562767</td>\n",
       "      <td>31.635241</td>\n",
       "      <td>27.508020</td>\n",
       "      <td>20.527580</td>\n",
       "    </tr>\n",
       "    <tr>\n",
       "      <th>3</th>\n",
       "      <td>-3.122825e-08</td>\n",
       "      <td>28.104694</td>\n",
       "      <td>28.243338</td>\n",
       "      <td>28.223377</td>\n",
       "      <td>26.402557</td>\n",
       "      <td>23.151896</td>\n",
       "      <td>18.147322</td>\n",
       "      <td>11.085422</td>\n",
       "    </tr>\n",
       "    <tr>\n",
       "      <th>4</th>\n",
       "      <td>-3.102825e-08</td>\n",
       "      <td>19.526001</td>\n",
       "      <td>19.727394</td>\n",
       "      <td>19.668325</td>\n",
       "      <td>17.515757</td>\n",
       "      <td>13.588511</td>\n",
       "      <td>7.788128</td>\n",
       "      <td>-0.174825</td>\n",
       "    </tr>\n",
       "    <tr>\n",
       "      <th>...</th>\n",
       "      <td>...</td>\n",
       "      <td>...</td>\n",
       "      <td>...</td>\n",
       "      <td>...</td>\n",
       "      <td>...</td>\n",
       "      <td>...</td>\n",
       "      <td>...</td>\n",
       "      <td>...</td>\n",
       "    </tr>\n",
       "    <tr>\n",
       "      <th>108</th>\n",
       "      <td>-1.022831e-08</td>\n",
       "      <td>-0.629711</td>\n",
       "      <td>-0.526609</td>\n",
       "      <td>-0.487231</td>\n",
       "      <td>-1.042318</td>\n",
       "      <td>-2.116411</td>\n",
       "      <td>-3.999531</td>\n",
       "      <td>-6.450719</td>\n",
       "    </tr>\n",
       "    <tr>\n",
       "      <th>109</th>\n",
       "      <td>-1.002831e-08</td>\n",
       "      <td>-0.676826</td>\n",
       "      <td>-0.554232</td>\n",
       "      <td>-0.562571</td>\n",
       "      <td>-0.982578</td>\n",
       "      <td>-2.094154</td>\n",
       "      <td>-4.020424</td>\n",
       "      <td>-6.403704</td>\n",
       "    </tr>\n",
       "    <tr>\n",
       "      <th>110</th>\n",
       "      <td>-9.828311e-09</td>\n",
       "      <td>-0.634787</td>\n",
       "      <td>-0.559015</td>\n",
       "      <td>-0.483544</td>\n",
       "      <td>-1.015127</td>\n",
       "      <td>-2.147274</td>\n",
       "      <td>-3.872620</td>\n",
       "      <td>-6.350922</td>\n",
       "    </tr>\n",
       "    <tr>\n",
       "      <th>111</th>\n",
       "      <td>-9.628311e-09</td>\n",
       "      <td>-0.721081</td>\n",
       "      <td>-0.548445</td>\n",
       "      <td>-0.548138</td>\n",
       "      <td>-1.033069</td>\n",
       "      <td>-2.181116</td>\n",
       "      <td>-3.927863</td>\n",
       "      <td>-6.343535</td>\n",
       "    </tr>\n",
       "    <tr>\n",
       "      <th>112</th>\n",
       "      <td>-9.428311e-09</td>\n",
       "      <td>-0.651536</td>\n",
       "      <td>-0.575790</td>\n",
       "      <td>-0.601580</td>\n",
       "      <td>-1.016272</td>\n",
       "      <td>-2.215998</td>\n",
       "      <td>-3.955481</td>\n",
       "      <td>-6.417713</td>\n",
       "    </tr>\n",
       "  </tbody>\n",
       "</table>\n",
       "<p>113 rows × 8 columns</p>\n",
       "</div>"
      ],
      "text/plain": [
       "                z       -0.0       0.75        2.0        4.0        6.0  \\\n",
       "0   -3.182825e-08  51.750179  51.581310  51.130814  49.505810  46.584351   \n",
       "1   -3.162825e-08  43.953426  43.928509  43.816441  42.090847  39.372910   \n",
       "2   -3.142825e-08  36.527794  36.373009  36.233540  34.562767  31.635241   \n",
       "3   -3.122825e-08  28.104694  28.243338  28.223377  26.402557  23.151896   \n",
       "4   -3.102825e-08  19.526001  19.727394  19.668325  17.515757  13.588511   \n",
       "..            ...        ...        ...        ...        ...        ...   \n",
       "108 -1.022831e-08  -0.629711  -0.526609  -0.487231  -1.042318  -2.116411   \n",
       "109 -1.002831e-08  -0.676826  -0.554232  -0.562571  -0.982578  -2.094154   \n",
       "110 -9.828311e-09  -0.634787  -0.559015  -0.483544  -1.015127  -2.147274   \n",
       "111 -9.628311e-09  -0.721081  -0.548445  -0.548138  -1.033069  -2.181116   \n",
       "112 -9.428311e-09  -0.651536  -0.575790  -0.601580  -1.016272  -2.215998   \n",
       "\n",
       "           8.0       10.0  \n",
       "0    41.749966  33.953133  \n",
       "1    34.885902  27.489771  \n",
       "2    27.508020  20.527580  \n",
       "3    18.147322  11.085422  \n",
       "4     7.788128  -0.174825  \n",
       "..         ...        ...  \n",
       "108  -3.999531  -6.450719  \n",
       "109  -4.020424  -6.403704  \n",
       "110  -3.872620  -6.350922  \n",
       "111  -3.927863  -6.343535  \n",
       "112  -3.955481  -6.417713  \n",
       "\n",
       "[113 rows x 8 columns]"
      ]
     },
     "execution_count": 59,
     "metadata": {},
     "output_type": "execute_result"
    }
   ],
   "source": [
    "data_dataframe"
   ]
  },
  {
   "cell_type": "code",
   "execution_count": 52,
   "id": "0a7697b6-8e1f-4906-b2db-51e4abe386c6",
   "metadata": {},
   "outputs": [],
   "source": [
    "a = 0.5*10**-9\n",
    "k = 1800\n",
    "f_0 = 19796.5\n",
    "\n",
    "z_real = data_dataframe['z'] - data_dataframe['z'][0] +1*10**(-9)"
   ]
  },
  {
   "cell_type": "code",
   "execution_count": 55,
   "id": "cc614ad4-02e3-460d-947b-7948ac9c88af",
   "metadata": {},
   "outputs": [
    {
     "data": {
      "text/plain": [
       "(113,)"
      ]
     },
     "execution_count": 55,
     "metadata": {},
     "output_type": "execute_result"
    }
   ],
   "source": [
    "z_real.to_numpy().shape"
   ]
  },
  {
   "cell_type": "code",
   "execution_count": 62,
   "id": "2c881172-a2da-44b9-ae60-0e806895f65b",
   "metadata": {},
   "outputs": [],
   "source": [
    "force_0p75 = fcn.calculate_force(a,k,f_0, z_real, df_dataframe['0.75'])"
   ]
  },
  {
   "cell_type": "code",
   "execution_count": null,
   "id": "7fbfae8b-994e-4b5d-aa97-6e070b624969",
   "metadata": {},
   "outputs": [],
   "source": [
    "plt.scatter(z_real[:-1]*10**9, lj.calculate_force(a,k,f_0, z_real, df_dataframe['0.75'])*10**9, s= 4, label = '0.75 V')\n",
    "plt.ylabel('force (nN)')\n",
    "plt.xlabel('tip height (nm)');"
   ]
  },
  {
   "cell_type": "code",
   "execution_count": null,
   "id": "3f888798-bc45-4293-a219-31cc3edecb61",
   "metadata": {},
   "outputs": [],
   "source": [
    "plt.scatter(z_real[:-1]*10**9, lj.calculate_force(a,k,f_0, z_real, df_dataframe['0.75'])*10**9, s= 4, label = '0.75 V')\n",
    "\n",
    "plt.scatter(z_real[:-1]*10**9, lj.calculate_force(a,k,f_0, z_real, df_dataframe['6.0'])*10**9, s= 4, label = '6.00 V')\n",
    "\n",
    "plt.scatter(z_real[:-1]*10**9, lj.calculate_force(a,k,f_0, z_real, df_dataframe['10.0'])*10**9, s= 4, label = '10.00 V')\n",
    "\n",
    "plt.ylabel('force (nN)')\n",
    "plt.xlabel('tip height (nm)')\n",
    "plt.legend();"
   ]
  },
  {
   "cell_type": "code",
   "execution_count": null,
   "id": "c71e6880-b059-4a4c-ba12-226215b75945",
   "metadata": {},
   "outputs": [],
   "source": [
    "plt.scatter(z_real*10**9, df_dataframe['0.75'], s= 4, label = '0.75 V')\n",
    "\n",
    "plt.scatter(z_real*10**9, df_dataframe['6.0'], s= 4, label = '6.00 V')\n",
    "\n",
    "plt.scatter(z_real*10**9, df_dataframe['10.0'], s= 4, label = '10.00 V')\n",
    "\n",
    "plt.ylabel('frequency shift (Hz)')\n",
    "plt.xlabel('tip height (nm)')\n",
    "\n",
    "plt.legend();"
   ]
  },
  {
   "cell_type": "code",
   "execution_count": null,
   "id": "7cab289c-c07f-4fe1-bf61-bc9b998fe2eb",
   "metadata": {},
   "outputs": [],
   "source": [
    "upper = lj.calculate_force(a,k,f_0, z_real, df_dataframe['0.75']+0.5)*10**9\n",
    "lower = lj.calculate_force(a,k,f_0, z_real, df_dataframe['0.75']-0.5)*10**9"
   ]
  },
  {
   "cell_type": "code",
   "execution_count": null,
   "id": "6655bce1-8eb4-4f43-a133-d60219de6858",
   "metadata": {},
   "outputs": [],
   "source": [
    "error = (upper-lower)/2"
   ]
  },
  {
   "cell_type": "code",
   "execution_count": null,
   "id": "a18c74da-7739-4665-9392-79540c94e95c",
   "metadata": {},
   "outputs": [],
   "source": [
    "plt.plot(error)"
   ]
  },
  {
   "cell_type": "code",
   "execution_count": null,
   "id": "b582f82a-c49c-488c-b2b5-987677b8c7a9",
   "metadata": {},
   "outputs": [],
   "source": []
  }
 ],
 "metadata": {
  "kernelspec": {
   "display_name": "Python 3 (ipykernel)",
   "language": "python",
   "name": "python3"
  },
  "language_info": {
   "codemirror_mode": {
    "name": "ipython",
    "version": 3
   },
   "file_extension": ".py",
   "mimetype": "text/x-python",
   "name": "python",
   "nbconvert_exporter": "python",
   "pygments_lexer": "ipython3",
   "version": "3.9.9"
  }
 },
 "nbformat": 4,
 "nbformat_minor": 5
}
